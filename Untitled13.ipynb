{
  "nbformat": 4,
  "nbformat_minor": 0,
  "metadata": {
    "colab": {
      "provenance": [],
      "authorship_tag": "ABX9TyMS/+Av79bJMBifucJlyreh",
      "include_colab_link": true
    },
    "kernelspec": {
      "name": "python3",
      "display_name": "Python 3"
    },
    "language_info": {
      "name": "python"
    }
  },
  "cells": [
    {
      "cell_type": "markdown",
      "metadata": {
        "id": "view-in-github",
        "colab_type": "text"
      },
      "source": [
        "<a href=\"https://colab.research.google.com/github/lavanya9739/credit-card-fraud-detection/blob/main/Untitled13.ipynb\" target=\"_parent\"><img src=\"https://colab.research.google.com/assets/colab-badge.svg\" alt=\"Open In Colab\"/></a>"
      ]
    },
    {
      "cell_type": "code",
      "execution_count": 1,
      "metadata": {
        "id": "ng_qM7Oe9xoY"
      },
      "outputs": [],
      "source": [
        "import pandas as pd\n",
        "from sklearn.ensemble import RandomForestClassifier\n",
        "from sklearn.model_selection import train_test_split\n",
        "from sklearn.preprocessing import LabelEncoder, StandardScaler\n",
        "from sklearn.metrics import accuracy_score\n",
        "import joblib\n"
      ]
    },
    {
      "cell_type": "code",
      "source": [
        "# Load the dataset\n",
        "file_path = \"/content/output_file.csv\"  # Replace with your file path\n",
        "data = pd.read_csv(file_path)\n",
        "\n",
        "# Drop unnecessary columns\n",
        "data_cleaned = data.drop(columns=[\"Account Number\", \"Card Number\", \"Transaction Time\", \"Transaction Date\",\n",
        "                                  \"Merchant Number\", \"Approval Code\"])\n",
        "\n",
        "# Encode categorical variables\n",
        "label_encoder = LabelEncoder()\n",
        "categorical_cols = [\"Transaction Type\", \"Currency Code\", \"Transaction Country\", \"Transaction City\", \"Fraud Label\"]\n",
        "for col in categorical_cols:\n",
        "    data_cleaned[col] = label_encoder.fit_transform(data_cleaned[col])\n",
        "\n",
        "# Separate features and target\n",
        "X = data_cleaned.drop(columns=[\"Fraud Label\"])\n",
        "y = data_cleaned[\"Fraud Label\"]\n",
        "\n",
        "# Train-test split\n",
        "X_train, X_test, y_train, y_test = train_test_split(X, y, test_size=0.2, random_state=42)\n",
        "\n",
        "# Scale the data\n",
        "scaler = StandardScaler()\n",
        "X_train_scaled = scaler.fit_transform(X_train)\n",
        "X_test_scaled = scaler.transform(X_test)\n"
      ],
      "metadata": {
        "id": "Tb_qxOn3965g"
      },
      "execution_count": 3,
      "outputs": []
    },
    {
      "cell_type": "code",
      "source": [
        "# Train the Random Forest model\n",
        "rf_model = RandomForestClassifier(n_estimators=100, random_state=42)\n",
        "rf_model.fit(X_train_scaled, y_train)\n",
        "\n",
        "# Make predictions\n",
        "y_pred = rf_model.predict(X_test_scaled)\n",
        "\n",
        "# Evaluate the model\n",
        "accuracy = accuracy_score(y_test, y_pred)\n",
        "print(f\"Model Accuracy: {accuracy:.4f}\")\n"
      ],
      "metadata": {
        "colab": {
          "base_uri": "https://localhost:8080/"
        },
        "id": "xKhvN4x9-KgQ",
        "outputId": "8aa4efe3-ddf9-4b8d-b2b5-e606669ef4ca"
      },
      "execution_count": 4,
      "outputs": [
        {
          "output_type": "stream",
          "name": "stdout",
          "text": [
            "Model Accuracy: 0.9500\n"
          ]
        }
      ]
    },
    {
      "cell_type": "code",
      "source": [
        "# Save the scaler\n",
        "joblib.dump(scaler, \"scaler.pkl\")\n",
        "print(\"Scaler saved as scaler.pkl\")\n",
        "\n",
        "# Save the model\n",
        "joblib.dump(rf_model, \"fraud_detection_model.pkl\")\n",
        "print(\"Model saved as fraud_detection_model.pkl\")\n"
      ],
      "metadata": {
        "colab": {
          "base_uri": "https://localhost:8080/"
        },
        "id": "mr-2ENv9-Qf0",
        "outputId": "843812bd-6c71-47ae-9c1f-f3f880798ef8"
      },
      "execution_count": 5,
      "outputs": [
        {
          "output_type": "stream",
          "name": "stdout",
          "text": [
            "Scaler saved as scaler.pkl\n",
            "Model saved as fraud_detection_model.pkl\n"
          ]
        }
      ]
    },
    {
      "cell_type": "code",
      "source": [
        "# Example new data with all required features\n",
        "new_data = pd.DataFrame([{\n",
        "    \"Transaction Type\": \"Refund\",\n",
        "    \"Currency Code\": \"INR\",\n",
        "    \"Transaction Country\": \"IN\",\n",
        "    \"Transaction City\": \"Hyderabad\",\n",
        "    \"Credit Limit\": 143194.285,  # Replace with an actual value\n",
        "    \"Merchant Category Code\": 4044,  # Replace with an actual value\n",
        "    \"Open to Buy\": 33994.67546,  # Replace with an actual value\n",
        "    \"Transaction Amount\": 4487.46083  # Replace with an actual value\n",
        "}])\n"
      ],
      "metadata": {
        "id": "P52asy3m_l3f"
      },
      "execution_count": 8,
      "outputs": []
    },
    {
      "cell_type": "code",
      "source": [
        "# Encode categorical columns\n",
        "for col in categorical_cols[:-1]:  # Skip \"Fraud Label\" as it's the target\n",
        "    if col in new_data.columns:\n",
        "        new_data[col] = label_encoder.fit_transform(new_data[col])\n",
        "\n",
        "# Ensure column order matches training data\n",
        "new_data = new_data[X.columns]  # Match the order of features during training\n",
        "\n",
        "# Scale the data\n",
        "new_data_scaled = scaler.transform(new_data)\n"
      ],
      "metadata": {
        "id": "oU1d0Rs4Az6X"
      },
      "execution_count": 9,
      "outputs": []
    },
    {
      "cell_type": "code",
      "source": [
        "# Predict using the loaded model\n",
        "fraud_prediction = rf_model.predict(new_data_scaled)\n",
        "print(\"Fraud Prediction:\", \"Fraud\" if fraud_prediction[0] == 1 else \"Not Fraud\")\n"
      ],
      "metadata": {
        "colab": {
          "base_uri": "https://localhost:8080/"
        },
        "id": "10wg1OYhA2IA",
        "outputId": "91dc93c7-e40a-45a3-80d3-52b5a68c0d53"
      },
      "execution_count": 10,
      "outputs": [
        {
          "output_type": "stream",
          "name": "stdout",
          "text": [
            "Fraud Prediction: Fraud\n"
          ]
        }
      ]
    }
  ]
}